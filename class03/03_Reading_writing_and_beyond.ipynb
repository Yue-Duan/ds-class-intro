{
 "cells": [
  {
   "cell_type": "markdown",
   "metadata": {},
   "source": [
    "# Intro to Python3 - Class02\n",
    "\n",
    "### Class agenda:\n",
    "##### 7. Reading and writing files\n",
    "##### 8. Useful basic modules\n",
    "\n",
    "##### Before we start new class, a few tips/resouces:\n",
    "* I re-wrote the [Git setup and homework submission instructions](https://github.com/emma-oc/ds-class-intro/blob/master/Git-setup-and-hw-instruction.md#instructions-for-homework-1-submission), check it out if you are not clear.\n",
    "* It might be a good time to explore IDEs or choose your favorite text editor as it will make your time slightly easier.\n",
    "\n",
    "## 7. Reading and writing files\n",
    "So far we only used `print` function to get the information from your code. But we will need to actually interact with your python program most of the time, e.g. passing arguemnts and inputs, or getting the results. This section we will learn how to \"talk to\" your python program.\n",
    "\n",
    "### 7.1 Reading input from command line\n",
    "Why do we want to do this, you may ask. It's important to understand the code is only useful when it's flexible and reusable. Which means, we would like the program to solve generalized problem, rather than one specific one. \n",
    "\n",
    "### 7.3 Files as iterables\n",
    "\n",
    "### 7.4 Working with OS path\n",
    "\n",
    "### 7.5 CSV Files\n",
    "\n",
    "### 7.6 JSON files"
   ]
  },
  {
   "cell_type": "code",
   "execution_count": 22,
   "metadata": {},
   "outputs": [],
   "source": [
    "def print_text1():\n",
    "    text = 'Data Science'\n",
    "    print(text)\n",
    "\n",
    "def print_text2(text):\n",
    "    print(text)"
   ]
  },
  {
   "cell_type": "code",
   "execution_count": 5,
   "metadata": {},
   "outputs": [
    {
     "name": "stdout",
     "output_type": "stream",
     "text": [
      "Data Science\n",
      "Machine Learning\n"
     ]
    }
   ],
   "source": [
    "print_text1()\n",
    "print_text2('Machine Learning')"
   ]
  },
  {
   "cell_type": "markdown",
   "metadata": {},
   "source": [
    "The simple example above is an example of hardcoding - when given a new input, you'll have to modify the function to get the desired results. \n",
    "\n",
    "We have learned to use function to parameterize our program, now we just need to find a way to pass this information into the program. `input()` function is useful for this purpose. `input()` function pauses code execution to wait for user to type in any keystrokes and capture such keyboard input before pressing `enter` as a `string`."
   ]
  },
  {
   "cell_type": "code",
   "execution_count": 7,
   "metadata": {},
   "outputs": [
    {
     "name": "stdout",
     "output_type": "stream",
     "text": [
      "Enter your name: emma\n"
     ]
    },
    {
     "data": {
      "text/plain": [
       "'emma'"
      ]
     },
     "execution_count": 7,
     "metadata": {},
     "output_type": "execute_result"
    }
   ],
   "source": [
    "input('Enter your name: ') # takes a prompt if you specify one"
   ]
  },
  {
   "cell_type": "code",
   "execution_count": 8,
   "metadata": {},
   "outputs": [
    {
     "name": "stdout",
     "output_type": "stream",
     "text": [
      "Enter your name: emma\n",
      "emma\n"
     ]
    }
   ],
   "source": [
    "name = input('Enter your name: ')\n",
    "print(name)"
   ]
  },
  {
   "cell_type": "markdown",
   "metadata": {},
   "source": [
    "Another useful input function is `getpass()`, this is usually used to prompt user for a password. This function will not echo anything to output."
   ]
  },
  {
   "cell_type": "code",
   "execution_count": 10,
   "metadata": {},
   "outputs": [
    {
     "name": "stdout",
     "output_type": "stream",
     "text": [
      "Enter your name:········\n"
     ]
    }
   ],
   "source": [
    "from getpass import getpass\n",
    "\n",
    "name = getpass('Enter your name:')  # protects your pw"
   ]
  },
  {
   "cell_type": "markdown",
   "metadata": {},
   "source": [
    "#### Converting input\n",
    "`input()` function always returns a string, so it's our job to convert the input to correct data type. For simple and literal conversions, python usually can infer pretty well by coercing. "
   ]
  },
  {
   "cell_type": "code",
   "execution_count": 11,
   "metadata": {},
   "outputs": [
    {
     "name": "stdout",
     "output_type": "stream",
     "text": [
      "How many hours did you spend on homeworks 1? 2\n",
      "2\n"
     ]
    },
    {
     "ename": "TypeError",
     "evalue": "unsupported operand type(s) for /: 'str' and 'int'",
     "output_type": "error",
     "traceback": [
      "\u001b[0;31m---------------------------------------------------------------------------\u001b[0m",
      "\u001b[0;31mTypeError\u001b[0m                                 Traceback (most recent call last)",
      "\u001b[0;32m<ipython-input-11-816339251333>\u001b[0m in \u001b[0;36m<module>\u001b[0;34m\u001b[0m\n\u001b[1;32m      1\u001b[0m \u001b[0mhours\u001b[0m \u001b[0;34m=\u001b[0m \u001b[0minput\u001b[0m\u001b[0;34m(\u001b[0m\u001b[0;34m'How many hours did you spend on homeworks 1? '\u001b[0m\u001b[0;34m)\u001b[0m\u001b[0;34m\u001b[0m\u001b[0m\n\u001b[1;32m      2\u001b[0m \u001b[0mprint\u001b[0m\u001b[0;34m(\u001b[0m\u001b[0mhours\u001b[0m\u001b[0;34m)\u001b[0m\u001b[0;34m\u001b[0m\u001b[0m\n\u001b[0;32m----> 3\u001b[0;31m \u001b[0mprint\u001b[0m\u001b[0;34m(\u001b[0m\u001b[0mhours\u001b[0m\u001b[0;34m/\u001b[0m\u001b[0;36m2\u001b[0m\u001b[0;34m)\u001b[0m\u001b[0;34m\u001b[0m\u001b[0m\n\u001b[0m",
      "\u001b[0;31mTypeError\u001b[0m: unsupported operand type(s) for /: 'str' and 'int'"
     ]
    }
   ],
   "source": [
    "hours = input('How many hours did you spend on homeworks 1? ')\n",
    "print(hours)\n",
    "print(hours/2)"
   ]
  },
  {
   "cell_type": "code",
   "execution_count": 17,
   "metadata": {},
   "outputs": [
    {
     "name": "stdout",
     "output_type": "stream",
     "text": [
      "How many hours did you spend on homeworks 1? 4\n",
      "4\n",
      "2.0\n"
     ]
    }
   ],
   "source": [
    "hours = input('How many hours did you spend on homeworks 1? ')  # enter 4, 4.0, 4,000\n",
    "print(hours)\n",
    "hours_int = int(hours)\n",
    "print(hours_int/2)"
   ]
  },
  {
   "cell_type": "code",
   "execution_count": 21,
   "metadata": {},
   "outputs": [
    {
     "data": {
      "text/plain": [
       "4000"
      ]
     },
     "execution_count": 21,
     "metadata": {},
     "output_type": "execute_result"
    }
   ],
   "source": [
    "# now you can use what we have learned\n",
    "int('$4,000'.replace(',','').replace('$',''))"
   ]
  },
  {
   "cell_type": "markdown",
   "metadata": {},
   "source": [
    "There are several levels of dynamic change for variables. There are two types of hardcoding: you either have an actual constanct, for example, `12`, or you have variables that don't change frequently for you problem setting. For example, if you are calculating annual income and want to define number of months in a year, the `12` is not likely to change. Contrary to these static variables, configuration values and actual inputs usually change a lot depending on the problem, and these are usually captured through input or reading some files.\n",
    "\n",
    "It's important to have these concepts in mind while you are writing your code. Do you want to change some of the variables or hold them constant? Which parameters would you like to give? How much flexibility are you getting?"
   ]
  },
  {
   "cell_type": "code",
   "execution_count": 24,
   "metadata": {},
   "outputs": [
    {
     "name": "stdout",
     "output_type": "stream",
     "text": [
      "50.24\n",
      "50.24\n",
      "enter radius: 4\n",
      "enter pi: 3.14\n",
      "50.24\n"
     ]
    }
   ],
   "source": [
    "# these essentially are the same computation\n",
    "# but you can get different levels of control here\n",
    "print(3.14 * 4 ** 2)\n",
    "\n",
    "radius = 4\n",
    "pi = 3.14\n",
    "print(pi * radius ** 2)\n",
    "\n",
    "def circle_area(radius, pi):\n",
    "    area = pi * radius ** 2\n",
    "    return area\n",
    "\n",
    "radius = input('enter radius: ')\n",
    "pi = input('enter pi: ')\n",
    "print(circle_area(radius=4, pi=3.14))"
   ]
  },
  {
   "cell_type": "markdown",
   "metadata": {},
   "source": [
    "### 7.2 Reading and writing basic text fiels\n",
    "`input()` might be good for short inputs, for bigger input and output, we will learn to use `file` to create \"hardcopy\" of data. `file` is a built-in type in python, and [you can read more about it here](https://docs.python.org/3/tutorial/inputoutput.html#reading-and-writing-files). To create a file, you can use the follwoing syntax:\n",
    "\n",
    "``` file = open(file_name [, mode])```\n",
    "\n",
    "The argument in `[]` is optional, meaning you don't have to provide one.\n",
    "    - `file_name`: name of the file to open, string, could be old or new\n",
    "    - `mode`: `r/w/a`, followed by `b` if file is binary\n",
    "You can use one of more advanced specification to do multiple things:\n",
    "```\n",
    "|          Mode          |  r   |  r+  |  w   |  w+  |  a   |  a+  |\n",
    "| :--------------------: | :--: | :--: | :--: | :--: | :--: | :--: |\n",
    "|          Read          |  +   |  +   |      |  +   |      |  +   |\n",
    "|         Write          |      |  +   |  +   |  +   |  +   |  +   |\n",
    "|         Create         |      |      |  +   |  +   |  +   |  +   |\n",
    "|         Cover          |      |      |  +   |  +   |      |      |\n",
    "| Point in the beginning |  +   |  +   |  +   |  +   |      |      |\n",
    "|    Point in the end    |      |      |      |      |  +   |  +   |\n",
    "```"
   ]
  },
  {
   "cell_type": "code",
   "execution_count": 30,
   "metadata": {},
   "outputs": [
    {
     "ename": "UnsupportedOperation",
     "evalue": "not readable",
     "output_type": "error",
     "traceback": [
      "\u001b[0;31m---------------------------------------------------------------------------\u001b[0m",
      "\u001b[0;31mUnsupportedOperation\u001b[0m                      Traceback (most recent call last)",
      "\u001b[0;32m<ipython-input-30-e8d3d54af435>\u001b[0m in \u001b[0;36m<module>\u001b[0;34m\u001b[0m\n\u001b[1;32m      1\u001b[0m \u001b[0mfile\u001b[0m \u001b[0;34m=\u001b[0m \u001b[0mopen\u001b[0m\u001b[0;34m(\u001b[0m\u001b[0;34m'class03.txt'\u001b[0m\u001b[0;34m,\u001b[0m \u001b[0;34m'w'\u001b[0m\u001b[0;34m)\u001b[0m\u001b[0;34m\u001b[0m\u001b[0m\n\u001b[0;32m----> 2\u001b[0;31m \u001b[0mfile\u001b[0m\u001b[0;34m.\u001b[0m\u001b[0mread\u001b[0m\u001b[0;34m(\u001b[0m\u001b[0;34m)\u001b[0m\u001b[0;34m\u001b[0m\u001b[0m\n\u001b[0m",
      "\u001b[0;31mUnsupportedOperation\u001b[0m: not readable"
     ]
    }
   ],
   "source": [
    "# let's create an empty file\n",
    "file = open('class03.txt', 'w')\n",
    "file.read()"
   ]
  },
  {
   "cell_type": "code",
   "execution_count": 31,
   "metadata": {},
   "outputs": [
    {
     "data": {
      "text/plain": [
       "''"
      ]
     },
     "execution_count": 31,
     "metadata": {},
     "output_type": "execute_result"
    }
   ],
   "source": [
    "file = open('class03.txt', 'w+')\n",
    "file.read()"
   ]
  },
  {
   "cell_type": "code",
   "execution_count": 32,
   "metadata": {},
   "outputs": [
    {
     "data": {
      "text/plain": [
       "''"
      ]
     },
     "execution_count": 32,
     "metadata": {},
     "output_type": "execute_result"
    }
   ],
   "source": [
    "file = open('class03.txt', 'r+')\n",
    "file.read()"
   ]
  },
  {
   "cell_type": "markdown",
   "metadata": {},
   "source": [
    "With a created file, you can use many methods on it to read or write. For example:\n",
    "- `file.read()`: read entire file or read until size if specified\n",
    "- `file.readline()`: read a single line until next new line character. `files.readlines()` give you multiple lines\n",
    "- `file.write()`: write to file\n",
    "- `file.close()`: close the file when you are done"
   ]
  },
  {
   "cell_type": "code",
   "execution_count": 49,
   "metadata": {},
   "outputs": [],
   "source": [
    "file = open('class03.txt', 'w')\n",
    "file.write('We are learning how to interact with file!\\nCan we see this?')\n",
    "file.close()"
   ]
  },
  {
   "cell_type": "code",
   "execution_count": 43,
   "metadata": {},
   "outputs": [
    {
     "name": "stdout",
     "output_type": "stream",
     "text": [
      "We are learning how to interact with file!\n",
      "Can we see this?\n"
     ]
    }
   ],
   "source": [
    "file = open('class03.txt', 'r')\n",
    "print(file.read())\n",
    "file.close()"
   ]
  },
  {
   "cell_type": "code",
   "execution_count": 44,
   "metadata": {},
   "outputs": [
    {
     "name": "stdout",
     "output_type": "stream",
     "text": [
      "We are learning how to interact with file!\n",
      "\n"
     ]
    }
   ],
   "source": [
    "file = open('class03.txt', 'r')\n",
    "print(file.readline())\n",
    "file.close()"
   ]
  },
  {
   "cell_type": "code",
   "execution_count": 50,
   "metadata": {},
   "outputs": [],
   "source": [
    "file = open('class03.txt', 'a')\n",
    "file.write('\\nAdding more stuff')\n",
    "file.close()"
   ]
  },
  {
   "cell_type": "code",
   "execution_count": 51,
   "metadata": {},
   "outputs": [
    {
     "name": "stdout",
     "output_type": "stream",
     "text": [
      "We are learning how to interact with file!\n",
      "Can we see this?\n",
      "Adding more stuff\n"
     ]
    }
   ],
   "source": [
    "file = open('class03.txt', 'r')\n",
    "print(file.read())\n",
    "file.close()"
   ]
  },
  {
   "cell_type": "markdown",
   "metadata": {},
   "source": [
    "There is an easier way if you want to make sure you don't forget to close the file, which is the `with` statement. It will automatically close the file once file is finished."
   ]
  },
  {
   "cell_type": "code",
   "execution_count": 52,
   "metadata": {},
   "outputs": [
    {
     "name": "stdout",
     "output_type": "stream",
     "text": [
      "['We are learning how to interact with file!\\n', 'Can we see this?\\n', 'Adding more stuff']\n"
     ]
    }
   ],
   "source": [
    "with open('class03.txt', 'r') as file:\n",
    "    print(file.readlines())"
   ]
  },
  {
   "cell_type": "code",
   "execution_count": null,
   "metadata": {},
   "outputs": [],
   "source": []
  }
 ],
 "metadata": {
  "kernelspec": {
   "display_name": "Python 3",
   "language": "python",
   "name": "python3"
  },
  "language_info": {
   "codemirror_mode": {
    "name": "ipython",
    "version": 3
   },
   "file_extension": ".py",
   "mimetype": "text/x-python",
   "name": "python",
   "nbconvert_exporter": "python",
   "pygments_lexer": "ipython3",
   "version": "3.6.6"
  }
 },
 "nbformat": 4,
 "nbformat_minor": 2
}
