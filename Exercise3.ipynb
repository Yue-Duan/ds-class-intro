{
 "cells": [
  {
   "cell_type": "code",
   "execution_count": 1,
   "metadata": {},
   "outputs": [
    {
     "name": "stdout",
     "output_type": "stream",
     "text": [
      "grade = B\n"
     ]
    }
   ],
   "source": [
    "#EX1\n",
    "# code up your solution here\n",
    "def grade(yourgrade):\n",
    "    if yourgrade >= 90:\n",
    "        print(\"grade = A\")\n",
    "    elif yourgrade >= 80 & yourgrade < 90:\n",
    "        print(\"grade = B\")\n",
    "    elif yourgrade >= 70 & yourgrade < 80:\n",
    "        print(\"grade = C\")\n",
    "    elif yourgrade >= 60 & yourgrade < 70:\n",
    "        print(\"grade = D\")\n",
    "    else:\n",
    "        print(\"grade = F\")\n",
    "    \n",
    "grade(67)    \n"
   ]
  },
  {
   "cell_type": "code",
   "execution_count": 2,
   "metadata": {},
   "outputs": [
    {
     "name": "stdout",
     "output_type": "stream",
     "text": [
      "x is the same as y\n"
     ]
    }
   ],
   "source": [
    "#EX2\n",
    "# code up your solution here\n",
    "def compare(x,y):\n",
    "    if x<y:\n",
    "        print('x is less than y')\n",
    "    elif x >y :\n",
    "        print('x is greater than y')\n",
    "    else:\n",
    "        print('x is the same as y')\n",
    "compare(1,1)"
   ]
  },
  {
   "cell_type": "code",
   "execution_count": null,
   "metadata": {},
   "outputs": [],
   "source": []
  }
 ],
 "metadata": {
  "kernelspec": {
   "display_name": "Python 3",
   "language": "python",
   "name": "python3"
  },
  "language_info": {
   "codemirror_mode": {
    "name": "ipython",
    "version": 3
   },
   "file_extension": ".py",
   "mimetype": "text/x-python",
   "name": "python",
   "nbconvert_exporter": "python",
   "pygments_lexer": "ipython3",
   "version": "3.7.3"
  }
 },
 "nbformat": 4,
 "nbformat_minor": 2
}
