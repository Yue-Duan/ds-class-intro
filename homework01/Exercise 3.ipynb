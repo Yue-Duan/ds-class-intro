{
 "cells": [
  {
   "cell_type": "code",
   "execution_count": 3,
   "metadata": {},
   "outputs": [],
   "source": [
    "#### Exercise 3."
   ]
  },
  {
   "cell_type": "code",
   "execution_count": 6,
   "metadata": {},
   "outputs": [
    {
     "name": "stdout",
     "output_type": "stream",
     "text": [
      "A\n"
     ]
    }
   ],
   "source": [
    "# code up your solution here\n",
    "def grading(score):\n",
    "    if score>=90:\n",
    "        grade=\"A\"\n",
    "    if score>= 80 and score < 90 :\n",
    "        grade=\"B\"\n",
    "    if score>= 70 and score < 80 :\n",
    "        grade=\"C\"\n",
    "    if score>= 60 and score < 70 :\n",
    "        grade=\"D\"\n",
    "    if score< 60 :\n",
    "        grade=\"F\"\n",
    "    print (grade)\n",
    "\n",
    "grading(90)\n",
    "    "
   ]
  },
  {
   "cell_type": "code",
   "execution_count": 7,
   "metadata": {},
   "outputs": [
    {
     "name": "stdout",
     "output_type": "stream",
     "text": [
      "x is the same as y\n"
     ]
    }
   ],
   "source": [
    "# code up your solution here\n",
    "def comparing(x,y):\n",
    "    if x<y:\n",
    "        message=\"x is less than y\"\n",
    "    if x>y:\n",
    "        message=\"x is greater than y\"\n",
    "    if x==y:\n",
    "        message= \"x is the same as y\"\n",
    "    print (message)\n",
    "\n",
    "comparing(1,1)"
   ]
  },
  {
   "cell_type": "code",
   "execution_count": null,
   "metadata": {},
   "outputs": [],
   "source": []
  }
 ],
 "metadata": {
  "kernelspec": {
   "display_name": "Python 3",
   "language": "python",
   "name": "python3"
  },
  "language_info": {
   "codemirror_mode": {
    "name": "ipython",
    "version": 3
   },
   "file_extension": ".py",
   "mimetype": "text/x-python",
   "name": "python",
   "nbconvert_exporter": "python",
   "pygments_lexer": "ipython3",
   "version": "3.7.4"
  }
 },
 "nbformat": 4,
 "nbformat_minor": 2
}
