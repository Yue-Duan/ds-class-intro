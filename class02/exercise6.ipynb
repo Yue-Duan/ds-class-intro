{
 "cells": [
  {
   "cell_type": "markdown",
   "metadata": {},
   "source": [
    "## 1. Calculation\n",
    "    '''\n",
    "\tWrite a function calculation() such that it can accept two variables \n",
    "\tand calculate the addition and subtraction of it. \n",
    "\tIt must return both addition and subtraction in a single return call\n",
    "\n",
    "\tExpected output:\n",
    "\tres = calculation(40, 10)\n",
    "\tprint(res)\n",
    "\t>>> (50, 30)\n",
    "\n",
    "\tArguments:\n",
    "\ta: first number \n",
    "\tb: second number\n",
    "\n",
    "\tReturns:\n",
    "\tsum: sum of two numbers\n",
    "\tdiff: difference of two numbers\n",
    "\t'''"
   ]
  },
  {
   "cell_type": "code",
   "execution_count": 6,
   "metadata": {},
   "outputs": [],
   "source": [
    "def calculation(a, b):\n",
    "    # code up your solution here\n",
    "    return(a+b,abs(a-b))"
   ]
  },
  {
   "cell_type": "code",
   "execution_count": 7,
   "metadata": {},
   "outputs": [
    {
     "name": "stdout",
     "output_type": "stream",
     "text": [
      "(50, 30)\n"
     ]
    }
   ],
   "source": [
    "res = calculation(40, 10)\n",
    "print(res)"
   ]
  },
  {
   "cell_type": "markdown",
   "metadata": {},
   "source": [
    "## 2. traingle_lambda\n",
    "    '''\n",
    "\tReturn a lambda object that takes in a base and height of triangle\n",
    "\tand computes the area.\n",
    "\n",
    "\tArguments:\n",
    "\tNone\n",
    "\n",
    "\tReturns:\n",
    "\tlambda_triangle_area: the lambda\n",
    "\t'''"
   ]
  },
  {
   "cell_type": "code",
   "execution_count": 19,
   "metadata": {},
   "outputs": [],
   "source": [
    "def triangle_lambda():\n",
    "    # code up your solution here\n",
    "    lambda_triangle_area = lambda x,y: (x*y/2) \n",
    "    return lambda_triangle_area"
   ]
  },
  {
   "cell_type": "code",
   "execution_count": 24,
   "metadata": {},
   "outputs": [
    {
     "data": {
      "text/plain": [
       "3.0"
      ]
     },
     "execution_count": 24,
     "metadata": {},
     "output_type": "execute_result"
    }
   ],
   "source": [
    "function=triangle_lambda()\n",
    "function(2,3)"
   ]
  },
  {
   "cell_type": "markdown",
   "metadata": {},
   "source": [
    "## 3. sort_words\n",
    "    '''\n",
    "\tWrite a Python program that accepts a hyphen-separated sequence of words \n",
    "\tas input, and prints the words in a hyphen-separated sequence after \n",
    "\tsorting them alphabetically.\n",
    "\n",
    "\tExpected output:\n",
    "\tsort_words('green-red-yellow-black-white')\n",
    "\t>>> 'black-green-red-white-yellow'\n",
    "\t\n",
    "\tArguments:\n",
    "\thyphen_str: input string separated by hyphen\n",
    "\n",
    "\tReturns:\n",
    "\tsorted_str: string in a hyphen-separated sequence after \n",
    "\tsorting them alphabetically\n",
    "\t'''"
   ]
  },
  {
   "cell_type": "code",
   "execution_count": 31,
   "metadata": {},
   "outputs": [],
   "source": [
    "def sort_words(hyphen_str): \n",
    "    # code up your solution here\n",
    "    items=[n for n in hyphen_str.split('-')]\n",
    "    items.sort()\n",
    "    return ('-'.join(items)) "
   ]
  },
  {
   "cell_type": "code",
   "execution_count": 32,
   "metadata": {},
   "outputs": [
    {
     "data": {
      "text/plain": [
       "'black-green-red-white-yellow'"
      ]
     },
     "execution_count": 32,
     "metadata": {},
     "output_type": "execute_result"
    }
   ],
   "source": [
    "sort_words('green-red-yellow-black-white')"
   ]
  },
  {
   "cell_type": "markdown",
   "metadata": {},
   "source": [
    "## 4. perfect_number\n",
    "    '''\n",
    "\tWrite a Python function to check whether a number is perfect or not.\n",
    "\n",
    "\tA perfect number is a positive integer that is equal to the sum of \n",
    "\tits proper positive divisors. Equivalently, a perfect number is a number \n",
    "\tthat is half the sum of all of its positive divisors (including itself).\n",
    "\n",
    "\tExample: 6 is a perfect number as 1+2+3=6. Also by the second definition,\n",
    "\t(1+2+3+6)/2=6. Next perfect number is 28=1+2+4+7+14. Next two perfect\n",
    "\tnumbers are 496 and 8128.\n",
    "\n",
    "\tArgument:\n",
    "\tnumber: number to check\n",
    "\n",
    "\tReturns:\n",
    "\tperfect: boolean, True if number is perfect\n",
    "\t'''\n"
   ]
  },
  {
   "cell_type": "code",
   "execution_count": 58,
   "metadata": {},
   "outputs": [],
   "source": [
    "def perfect_number(x):\n",
    "    # code up your answer here\n",
    "    divisor=[]\n",
    "    for i in range(1,x+1):\n",
    "        if int(x)%i==0:\n",
    "            divisor.append(i)\n",
    "    if sum(divisor)/2 == x:\n",
    "        return True\n",
    "    else: \n",
    "        return False\n",
    "\n",
    "if __name__ == '__main__':\n",
    "    pass"
   ]
  },
  {
   "cell_type": "code",
   "execution_count": 63,
   "metadata": {},
   "outputs": [
    {
     "data": {
      "text/plain": [
       "True"
      ]
     },
     "execution_count": 63,
     "metadata": {},
     "output_type": "execute_result"
    }
   ],
   "source": [
    "perfect_number(8128)"
   ]
  },
  {
   "cell_type": "code",
   "execution_count": null,
   "metadata": {},
   "outputs": [],
   "source": []
  }
 ],
 "metadata": {
  "kernelspec": {
   "display_name": "Python 3",
   "language": "python",
   "name": "python3"
  },
  "language_info": {
   "codemirror_mode": {
    "name": "ipython",
    "version": 3
   },
   "file_extension": ".py",
   "mimetype": "text/x-python",
   "name": "python",
   "nbconvert_exporter": "python",
   "pygments_lexer": "ipython3",
   "version": "3.7.3"
  }
 },
 "nbformat": 4,
 "nbformat_minor": 2
}
