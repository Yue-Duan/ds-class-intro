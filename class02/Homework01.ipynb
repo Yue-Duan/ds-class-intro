{
 "cells": [
  {
   "cell_type": "markdown",
   "metadata": {},
   "source": [
    "# Exercise 1"
   ]
  },
  {
   "cell_type": "markdown",
   "metadata": {},
   "source": [
    "Calculate the circumference and area of a circle with specified radius. Reminder: c=2pi*r , a=pi*r^2\n",
    "If you'd like to use a proper Pi instead of 3.14, you can use the following code to import math module. You can explore python's documentation for math module to learn more about what's available."
   ]
  },
  {
   "cell_type": "code",
   "execution_count": 1,
   "metadata": {},
   "outputs": [
    {
     "data": {
      "text/plain": [
       "3.141592653589793"
      ]
     },
     "execution_count": 1,
     "metadata": {},
     "output_type": "execute_result"
    }
   ],
   "source": [
    "import math\n",
    "math.pi\n"
   ]
  },
  {
   "cell_type": "code",
   "execution_count": 18,
   "metadata": {},
   "outputs": [
    {
     "name": "stdout",
     "output_type": "stream",
     "text": [
      "radius:10\n",
      "62.83185307179586\n",
      "314.1592653589793\n"
     ]
    }
   ],
   "source": [
    "pi=float(math.pi)\n",
    "radius=input(\"radius:\")\n",
    "r=float(radius)\n",
    "\n",
    "circumference=2*pi*r\n",
    "area=pi*r**2\n",
    "\n",
    "print (circumference)\n",
    "print (area)\n"
   ]
  },
  {
   "cell_type": "markdown",
   "metadata": {},
   "source": [
    "Define a variable a with value 3, variable b with value 7, what's the value of a/b, a//b, and a%b? What's the ceiling and floor of a/b? (Hint: use math.ceil and math.floor)"
   ]
  },
  {
   "cell_type": "code",
   "execution_count": 17,
   "metadata": {},
   "outputs": [
    {
     "name": "stdout",
     "output_type": "stream",
     "text": [
      "0.42857142857142855\n",
      "0\n",
      "3\n",
      "1\n",
      "0\n"
     ]
    }
   ],
   "source": [
    "a=3\n",
    "b=7\n",
    "\n",
    "print(a/b)\n",
    "print(a//b)\n",
    "print(a%b)\n",
    "\n",
    "import math\n",
    "ceiling=math.ceil\n",
    "floor=math.floor\n",
    "print(ceiling(a/b))\n",
    "print(floor(a/b))"
   ]
  },
  {
   "cell_type": "markdown",
   "metadata": {},
   "source": [
    "# Exercise 2"
   ]
  },
  {
   "cell_type": "markdown",
   "metadata": {},
   "source": [
    "Define a fraction number with numerator=123 and denominator=456, print out the fraction number in format a/b and the quotient with 8 digits after decimal point.\n",
    "\n",
    "Sample output: \"123/456 = 0.269737\""
   ]
  },
  {
   "cell_type": "code",
   "execution_count": 25,
   "metadata": {},
   "outputs": [
    {
     "name": "stdout",
     "output_type": "stream",
     "text": [
      "numerator:5\n",
      "denominator:10\n",
      "5.0/10.0 = 0.5\n",
      "5.0/10.0 = 0.50000000\n"
     ]
    }
   ],
   "source": [
    "nu=input(\"numerator:\")\n",
    "de=input(\"denominator:\")\n",
    "numerator=float(nu)\n",
    "denominator=float(de)\n",
    "\n",
    "print(str(numerator)+'/'+str(denominator)+' = '+str(round(numerator/denominator,8)))\n",
    "\n",
    "print('{0}/{1} = {2:.8f}'.format(numerator, denominator, numerator/denominator))"
   ]
  },
  {
   "cell_type": "markdown",
   "metadata": {},
   "source": [
    "Print out every other character of the string \"Data Science\" using string slicing."
   ]
  },
  {
   "cell_type": "code",
   "execution_count": 32,
   "metadata": {},
   "outputs": [
    {
     "name": "stdout",
     "output_type": "stream",
     "text": [
      "Dt cec\n",
      "Data Science\n",
      " aaSine\n"
     ]
    }
   ],
   "source": [
    "DS=\"Data Science\"\n",
    "\n",
    "print(DS[::2])\n",
    "print(DS[::1])\n",
    "\n",
    "ds=' Data Science\"'\n",
    "print(ds[::2])"
   ]
  },
  {
   "cell_type": "markdown",
   "metadata": {},
   "source": [
    "The string regex_wiki contains the second paragraph of regular expression introduction in Wikipedia. Modify the string with all lower case and no space."
   ]
  },
  {
   "cell_type": "code",
   "execution_count": 35,
   "metadata": {},
   "outputs": [
    {
     "data": {
      "text/plain": [
       "'theconceptaroseinthe1950swhentheamericanmathematicianstephencolekleeneformalized\\nthedescriptionofaregularlanguage.theconceptcameintocommonusewithunixtext-processingutilities.\\ndifferentsyntaxesforwritingregularexpressionshaveexistedsincethe1980s,onebeingtheposixstandard\\nandanother,widelyused,beingtheperlsyntax.'"
      ]
     },
     "execution_count": 35,
     "metadata": {},
     "output_type": "execute_result"
    }
   ],
   "source": [
    "regex_wiki = \"\"\"The concept arose in the 1950s when the American mathematician Stephen Cole Kleene formalized \n",
    "the description of a regular language. The concept came into common use with Unix text-processing utilities. \n",
    "Different syntaxes for writing regular expressions have existed since the 1980s, one being the POSIX standard \n",
    "and another, widely used, being the Perl syntax.\"\"\"\n",
    "\n",
    "regex_wiki.lower().replace(' ','')"
   ]
  },
  {
   "cell_type": "markdown",
   "metadata": {},
   "source": [
    "Replace all data with <3 in the following string. Use a string method to check data is not in the new string."
   ]
  },
  {
   "cell_type": "code",
   "execution_count": 36,
   "metadata": {},
   "outputs": [
    {
     "name": "stdout",
     "output_type": "stream",
     "text": [
      "Data science continues to evolve as one of the most promising and in-demand career paths for \n",
      "skilled professionals. Today, successful <3 professionals understand that they must advance past the traditional \n",
      "skills of analyzing large amounts of <3, <3 mining, and programming skills. In order to uncover useful \n",
      "intelligence for their organizations, <3 scientists must master the full spectrum of the <3 science life cycle \n",
      "and possess a level of flexibility and understanding to maximize returns at each phase of the process.\n",
      "False\n"
     ]
    }
   ],
   "source": [
    "data_science = \"\"\"Data science continues to evolve as one of the most promising and in-demand career paths for \n",
    "skilled professionals. Today, successful data professionals understand that they must advance past the traditional \n",
    "skills of analyzing large amounts of data, data mining, and programming skills. In order to uncover useful \n",
    "intelligence for their organizations, data scientists must master the full spectrum of the data science life cycle \n",
    "and possess a level of flexibility and understanding to maximize returns at each phase of the process.\"\"\"\n",
    "\n",
    "ds1 = data_science.replace('data', '<3')\n",
    "print(ds1)\n",
    "print('data' in ds1)"
   ]
  },
  {
   "cell_type": "markdown",
   "metadata": {},
   "source": [
    "CHALLENGE: if you are familiar with string manipulation and regex, use python's regular expression re module to replace the first a in all data in the paragraph above, and keep the original case for the word.\n",
    "\n",
    "Data ---> D<3ta, data ---> d<3ta, DATA --- D<3TA, etc.\n",
    "We can use this example for an intro to regex if some of your are interested."
   ]
  },
  {
   "cell_type": "code",
   "execution_count": 38,
   "metadata": {},
   "outputs": [],
   "source": [
    "data_science = \"\"\"Data science continues to evolve as one of the most promising and in-demand career paths for \n",
    "skilled professionals. Today, successful data professionals understand that they must advance past the traditional \n",
    "skills of analyzing large amounts of data, data mining, and programming skills. In order to uncover useful \n",
    "intelligence for their organizations, data scientists must master the full spectrum of the data science life cycle \n",
    "and possess a level of flexibility and understanding to maximize returns at each phase of the process.\"\"\"\n",
    "\n",
    "#????\n",
    "#how to seperate/find a in data"
   ]
  },
  {
   "cell_type": "markdown",
   "metadata": {},
   "source": [
    "# Exercise 3"
   ]
  },
  {
   "cell_type": "markdown",
   "metadata": {},
   "source": [
    "Write a program flow which will assign grade by the test scores using the following conditions:\n",
    "If score >= 90, grade=\"A\"\n",
    "If 80 >= score >90, grade=\"B\"\n",
    "If 70 >= score >80, grade=\"C\"\n",
    "If 60 >= score >70, grade=\"D\"\n",
    "IF score < 60, grade=\"F\""
   ]
  },
  {
   "cell_type": "code",
   "execution_count": 39,
   "metadata": {},
   "outputs": [
    {
     "name": "stdout",
     "output_type": "stream",
     "text": [
      "score:90\n",
      "A\n"
     ]
    }
   ],
   "source": [
    "\n",
    "# code up your solution here\n",
    "\n",
    "s=input(\"score:\")\n",
    "score=float(s)\n",
    "\n",
    "if score >= 90:\n",
    "    grade = 'A'\n",
    "elif score >= 80:\n",
    "    grade = 'B'\n",
    "elif score >= 70:\n",
    "    grade = 'C'\n",
    "elif score >= 60:\n",
    "    grade = 'D'\n",
    "else:\n",
    "    grade = 'E'\n",
    "    \n",
    "print(grade)\n",
    "\n",
    "#how to do multiple times other other\n",
    "#print(grade)\n",
    "#print(grade)\n",
    "#print(grade)\n",
    "#print(grade)"
   ]
  },
  {
   "cell_type": "markdown",
   "metadata": {},
   "source": [
    "x=1, y=1, write a flow to assign messge to different value base on different criteria as below, and in the end print out the message:\n",
    "\n",
    "a. If x less than y, messge=\"x is less than y\"\n",
    "\n",
    "b. If x larger than y, messge=\"x is greater than y\"\n",
    "\n",
    "c. If x equal to y, messge=\"x is the same as y\""
   ]
  },
  {
   "cell_type": "code",
   "execution_count": 40,
   "metadata": {},
   "outputs": [
    {
     "name": "stdout",
     "output_type": "stream",
     "text": [
      "x:1\n",
      "y:1\n",
      "x is the same as y\n"
     ]
    }
   ],
   "source": [
    "x = input(\"x:\")\n",
    "y = input(\"y:\")\n",
    "x=float(x)\n",
    "y=float(y)\n",
    "\n",
    "if x < y:\n",
    "    print('x is less than y')\n",
    "elif x > y:\n",
    "    print('x is greater than y')\n",
    "else:\n",
    "    print('x is the same as y')"
   ]
  },
  {
   "cell_type": "markdown",
   "metadata": {},
   "source": [
    "# exercise 4"
   ]
  },
  {
   "cell_type": "markdown",
   "metadata": {},
   "source": [
    "Read more on list and select 2 list methods not mentioned in class to give examples of using them."
   ]
  },
  {
   "cell_type": "code",
   "execution_count": 53,
   "metadata": {},
   "outputs": [
    {
     "name": "stdout",
     "output_type": "stream",
     "text": [
      "['G', 'O', 'D', ' ', 'W', 'I', 'T', 'H', ' ', 'U', 'S']\n",
      "[]\n"
     ]
    }
   ],
   "source": [
    "list2=list(\"GOD WITH US\")\n",
    "print(list2)\n",
    "list.clear(list2)\n",
    "print(list2)"
   ]
  },
  {
   "cell_type": "code",
   "execution_count": 58,
   "metadata": {},
   "outputs": [
    {
     "name": "stdout",
     "output_type": "stream",
     "text": [
      "['A', ',', 'A', ',', 'A', ',', 'A', ',', 'A', ',', 'A', ',', 'A', ',', 'B', ',', 'B', ',', 'B', ',', 'B', ',', 'C', ',', 'C', ',', 'D', ',', 'D', ',', 'D', ',', 'D', ',', 'D', ',', 'E', ',', 'F', ',', 'G', ',', 'G', ',', 'G']\n",
      "[',', ',', ',', ',', ',', ',', ',', ',', ',', ',', ',', ',', ',', ',', ',', ',', ',', ',', ',', ',', ',', ',', 'A', 'A', 'A', 'A', 'A', 'A', 'A', 'B', 'B', 'B', 'B', 'C', 'C', 'D', 'D', 'D', 'D', 'D', 'E', 'F', 'G', 'G', 'G']\n"
     ]
    }
   ],
   "source": [
    "list3=list(\"A,A,A,A,A,A,A,B,B,B,B,C,C,D,D,D,D,D,E,F,G,G,G\")\n",
    "print(list3)\n",
    "list.sort(list3)\n",
    "print(list3)"
   ]
  },
  {
   "cell_type": "markdown",
   "metadata": {},
   "source": [
    "How can you check if a key is already in a dictionary? Give an example."
   ]
  },
  {
   "cell_type": "code",
   "execution_count": 49,
   "metadata": {},
   "outputs": [
    {
     "name": "stdout",
     "output_type": "stream",
     "text": [
      "True\n",
      "False\n"
     ]
    }
   ],
   "source": [
    "list1=dict(A=90, B=80, C=70, D=60)\n",
    "print(\"A\" in list1)\n",
    "print(\"F\" in list1)"
   ]
  },
  {
   "cell_type": "markdown",
   "metadata": {},
   "source": [
    "Explore how Counter works as another type of collection. Give 2 examples to use Counter."
   ]
  },
  {
   "cell_type": "code",
   "execution_count": 70,
   "metadata": {
    "scrolled": true
   },
   "outputs": [
    {
     "ename": "ModuleNotFoundError",
     "evalue": "No module named 'Counter'",
     "output_type": "error",
     "traceback": [
      "\u001b[0;31m---------------------------------------------------------------------------\u001b[0m",
      "\u001b[0;31mModuleNotFoundError\u001b[0m                       Traceback (most recent call last)",
      "\u001b[0;32m<ipython-input-70-d2149225a70f>\u001b[0m in \u001b[0;36m<module>\u001b[0;34m\u001b[0m\n\u001b[1;32m      2\u001b[0m \u001b[0;31m#words = re.findall(r'\\w+', open('THE SONNETS.txt\", Desktop).read().lower())\u001b[0m\u001b[0;34m\u001b[0m\u001b[0;34m\u001b[0m\u001b[0;34m\u001b[0m\u001b[0m\n\u001b[1;32m      3\u001b[0m \u001b[0;31m#Counter(words).most_common(10))\u001b[0m\u001b[0;34m\u001b[0m\u001b[0;34m\u001b[0m\u001b[0;34m\u001b[0m\u001b[0m\n\u001b[0;32m----> 4\u001b[0;31m \u001b[0;32mimport\u001b[0m \u001b[0mCounter\u001b[0m\u001b[0;34m\u001b[0m\u001b[0;34m\u001b[0m\u001b[0m\n\u001b[0m\u001b[1;32m      5\u001b[0m \u001b[0mc\u001b[0m \u001b[0;34m=\u001b[0m \u001b[0mCounter\u001b[0m\u001b[0;34m(\u001b[0m\u001b[0ma\u001b[0m\u001b[0;34m=\u001b[0m\u001b[0;36m4\u001b[0m\u001b[0;34m,\u001b[0m \u001b[0mb\u001b[0m\u001b[0;34m=\u001b[0m\u001b[0;36m2\u001b[0m\u001b[0;34m,\u001b[0m \u001b[0mc\u001b[0m\u001b[0;34m=\u001b[0m\u001b[0;36m0\u001b[0m\u001b[0;34m,\u001b[0m \u001b[0md\u001b[0m\u001b[0;34m=\u001b[0m\u001b[0;34m-\u001b[0m\u001b[0;36m2\u001b[0m\u001b[0;34m)\u001b[0m\u001b[0;34m\u001b[0m\u001b[0;34m\u001b[0m\u001b[0m\n\u001b[1;32m      6\u001b[0m \u001b[0msorted\u001b[0m\u001b[0;34m(\u001b[0m\u001b[0mc\u001b[0m\u001b[0;34m.\u001b[0m\u001b[0melements\u001b[0m\u001b[0;34m(\u001b[0m\u001b[0;34m)\u001b[0m\u001b[0;34m)\u001b[0m\u001b[0;34m\u001b[0m\u001b[0;34m\u001b[0m\u001b[0m\n",
      "\u001b[0;31mModuleNotFoundError\u001b[0m: No module named 'Counter'"
     ]
    }
   ],
   "source": [
    "#import re\n",
    "#words = re.findall(r'\\w+', open('THE SONNETS.txt\", Desktop).read().lower())\n",
    "#Counter(words).most_common(10))\n",
    "#??????????????import Counter\n",
    "c = Counter(a=4, b=2, c=0, d=-2)\n",
    "sorted(c.elements())\n",
    "['a', 'a', 'a', 'a', 'b', 'b']"
   ]
  },
  {
   "cell_type": "code",
   "execution_count": 72,
   "metadata": {},
   "outputs": [
    {
     "ename": "NameError",
     "evalue": "name 'Counter' is not defined",
     "output_type": "error",
     "traceback": [
      "\u001b[0;31m---------------------------------------------------------------------------\u001b[0m",
      "\u001b[0;31mNameError\u001b[0m                                 Traceback (most recent call last)",
      "\u001b[0;32m<ipython-input-72-e87710c892ee>\u001b[0m in \u001b[0;36m<module>\u001b[0;34m\u001b[0m\n\u001b[0;32m----> 1\u001b[0;31m \u001b[0mc\u001b[0m\u001b[0;34m=\u001b[0m\u001b[0mCounter\u001b[0m\u001b[0;34m(\u001b[0m\u001b[0;34m)\u001b[0m\u001b[0;34m\u001b[0m\u001b[0;34m\u001b[0m\u001b[0m\n\u001b[0m",
      "\u001b[0;31mNameError\u001b[0m: name 'Counter' is not defined"
     ]
    }
   ],
   "source": [
    "c=Counter()"
   ]
  },
  {
   "cell_type": "code",
   "execution_count": 7,
   "metadata": {},
   "outputs": [],
   "source": [
    "fibolist=[0, 1, 1, 2, 3, 5, 8, 13, 21, 34, 55, 89, 144, 233, 377, 610, 987, 1597, 2584, 4181, 6765, 10946, 17711, 28657, 46368, 75025, 121393, 196418, 317811]"
   ]
  },
  {
   "cell_type": "markdown",
   "metadata": {},
   "source": [
    "The next number is found by adding up the two numbers before it. Find the last element of the fibolist"
   ]
  },
  {
   "cell_type": "code",
   "execution_count": 8,
   "metadata": {
    "scrolled": true
   },
   "outputs": [
    {
     "name": "stdout",
     "output_type": "stream",
     "text": [
      "317811\n"
     ]
    }
   ],
   "source": [
    "print(fibolist[-1])"
   ]
  },
  {
   "cell_type": "markdown",
   "metadata": {},
   "source": [
    "Calculate the sum of fibolist"
   ]
  },
  {
   "cell_type": "code",
   "execution_count": 9,
   "metadata": {},
   "outputs": [
    {
     "name": "stdout",
     "output_type": "stream",
     "text": [
      "832039\n"
     ]
    }
   ],
   "source": [
    "print(sum(fibolist))"
   ]
  },
  {
   "cell_type": "markdown",
   "metadata": {},
   "source": [
    "Calculate and append the next fibonacci number to fibolist."
   ]
  },
  {
   "cell_type": "code",
   "execution_count": 10,
   "metadata": {},
   "outputs": [
    {
     "name": "stdout",
     "output_type": "stream",
     "text": [
      "514229\n",
      "[0, 1, 1, 2, 3, 5, 8, 13, 21, 34, 55, 89, 144, 233, 377, 610, 987, 1597, 2584, 4181, 6765, 10946, 17711, 28657, 46368, 75025, 121393, 196418, 317811, 514229]\n"
     ]
    }
   ],
   "source": [
    "wow=(fibolist[-1]+fibolist[-2])\n",
    "print(wow)\n",
    "fibolist.append(int(wow))\n",
    "print(fibolist)"
   ]
  },
  {
   "cell_type": "markdown",
   "metadata": {},
   "source": [
    "Create a reversed copy of fibolist without permanently reversing fibolist liteslf."
   ]
  },
  {
   "cell_type": "code",
   "execution_count": 11,
   "metadata": {},
   "outputs": [
    {
     "name": "stdout",
     "output_type": "stream",
     "text": [
      "[0, 1, 1, 2, 3, 5, 8, 13, 21, 34, 55, 89, 144, 233, 377, 610, 987, 1597, 2584, 4181, 6765, 10946, 17711, 28657, 46368, 75025, 121393, 196418, 317811, 514229]\n",
      "[514229, 317811, 196418, 121393, 75025, 46368, 28657, 17711, 10946, 6765, 4181, 2584, 1597, 987, 610, 377, 233, 144, 89, 55, 34, 21, 13, 8, 5, 3, 2, 1, 1, 0]\n"
     ]
    }
   ],
   "source": [
    "tuple1 = fibolist\n",
    "print(tuple1)\n",
    "tuple1.reverse()\n",
    "print(tuple1)"
   ]
  },
  {
   "cell_type": "markdown",
   "metadata": {},
   "source": [
    "Check if 29473 is a fibonacci number, and assign the anser to variable fibo_29473"
   ]
  },
  {
   "cell_type": "code",
   "execution_count": 12,
   "metadata": {},
   "outputs": [
    {
     "name": "stdout",
     "output_type": "stream",
     "text": [
      "False\n"
     ]
    }
   ],
   "source": [
    "29473 in fibolist\n",
    "fibo_29473 = (29473 in fibolist)\n",
    "print (fibo_29473)\n",
    "\n"
   ]
  },
  {
   "cell_type": "markdown",
   "metadata": {},
   "source": [
    "Create two sets. Calculate the union, intersection, difference and symmetric difference for the two sets."
   ]
  },
  {
   "cell_type": "code",
   "execution_count": 13,
   "metadata": {},
   "outputs": [
    {
     "name": "stdout",
     "output_type": "stream",
     "text": [
      "{'d', 'l'}\n",
      "{' ', 'e', 'c', 'g', 'i', 't', 'a', 'k', 'm', 'o', 'y', 'l', 'd', 'p', 'n'}\n",
      "{' ', 'o', 'g', 'i', 'p', 'n'}\n",
      "{'m', 'y', 'l', 'e', 'c', 'd', 't', 'a', 'k'}\n"
     ]
    }
   ],
   "source": [
    "a=set1=set(\"pig dog lion\")\n",
    "b=set2=set(\"pig monkey cat\")\n",
    "print(a - b)              # letters in a but not in b\n",
    "print(a | b)              # letters in a or b or both\n",
    "print(a & b)              # letters in both a and b\n",
    "print(a ^ b)              # letters in a or b but not both\n",
    "\n",
    "###?? what if we want to have pig, dog, lion..."
   ]
  },
  {
   "cell_type": "markdown",
   "metadata": {},
   "source": [
    "Creat a dictionary using at least two different methods."
   ]
  },
  {
   "cell_type": "code",
   "execution_count": 21,
   "metadata": {
    "scrolled": false
   },
   "outputs": [
    {
     "name": "stdout",
     "output_type": "stream",
     "text": [
      "{'Queen': 1, 'King': 2, 'horse': 3}\n",
      "{'Bishop': 3, 'Elephant': 4, 'Normal': {'Queen': 1, 'King': 2, 'horse': 3}}\n"
     ]
    }
   ],
   "source": [
    "dict1 = dict(Queen=1, King=2, horse=3)\n",
    "print(dict1)\n",
    "dict2 = {\"Bishop\":3, \"Elephant\":4, \"Normal\":dict1}\n",
    "print(dict2)"
   ]
  },
  {
   "cell_type": "code",
   "execution_count": 23,
   "metadata": {},
   "outputs": [
    {
     "ename": "SyntaxError",
     "evalue": "unexpected EOF while parsing (<ipython-input-23-201ceab2f71c>, line 1)",
     "output_type": "error",
     "traceback": [
      "\u001b[0;36m  File \u001b[0;32m\"<ipython-input-23-201ceab2f71c>\"\u001b[0;36m, line \u001b[0;32m1\u001b[0m\n\u001b[0;31m    dict3 = dict(Queen=int(input(\"Queen:\")), King=int(input(\"King:\"))\u001b[0m\n\u001b[0m                                                                     ^\u001b[0m\n\u001b[0;31mSyntaxError\u001b[0m\u001b[0;31m:\u001b[0m unexpected EOF while parsing\n"
     ]
    }
   ],
   "source": [
    "###dict3 = dict(Queen=int(input(\"Queen:\")), King=int(input(\"King:\"))"
   ]
  },
  {
   "cell_type": "code",
   "execution_count": null,
   "metadata": {},
   "outputs": [],
   "source": [
    "###why cannot run the code and what is \"In [*]\" sometimes"
   ]
  },
  {
   "cell_type": "markdown",
   "metadata": {},
   "source": [
    "Check if 2 and 9999 are fibonacci numbers. "
   ]
  },
  {
   "cell_type": "code",
   "execution_count": 24,
   "metadata": {},
   "outputs": [
    {
     "name": "stdout",
     "output_type": "stream",
     "text": [
      "True\n",
      "False\n"
     ]
    }
   ],
   "source": [
    "print(2 in fibolist)\n",
    "print(9999 in fibolist)"
   ]
  },
  {
   "cell_type": "markdown",
   "metadata": {},
   "source": [
    "Create a dictionary fibo_dict with the numbers as keys, and value=True if the number is fibonacci number, and False otherwise."
   ]
  },
  {
   "cell_type": "code",
   "execution_count": null,
   "metadata": {},
   "outputs": [],
   "source": [
    "#Actually dont know how to do"
   ]
  },
  {
   "cell_type": "code",
   "execution_count": 27,
   "metadata": {},
   "outputs": [],
   "source": [
    "fibolist=[0, 1, 1, 2, 3, 5, 8, 13, 21, 34, 55, 89, 144, 233, 377, 610, 987, 1597, 2584, 4181, 6765, 10946, 17711, 28657, 46368, 75025, 121393, 196418, 317811]\n",
    "fibo_dict=dict()"
   ]
  },
  {
   "cell_type": "code",
   "execution_count": null,
   "metadata": {},
   "outputs": [],
   "source": [
    "a=input()\n",
    "a=float(a)\n",
    "b=input()\n",
    "b=float(b)\n",
    "\n",
    "#......\n",
    "if (a in fibolist)=True\n",
    "    fibo_dict.append(a:true)\n",
    "else \n",
    "    fibo_dict.append(a:false)\n",
    "if (b in fibolist)=True\n",
    "    fibo_dict.append(b:true)\n",
    "else \n",
    "    fibo_dict.append(b:false)"
   ]
  },
  {
   "cell_type": "code",
   "execution_count": null,
   "metadata": {},
   "outputs": [],
   "source": [
    "#not right"
   ]
  }
 ],
 "metadata": {
  "kernelspec": {
   "display_name": "Python 3",
   "language": "python",
   "name": "python3"
  },
  "language_info": {
   "codemirror_mode": {
    "name": "ipython",
    "version": 3
   },
   "file_extension": ".py",
   "mimetype": "text/x-python",
   "name": "python",
   "nbconvert_exporter": "python",
   "pygments_lexer": "ipython3",
   "version": "3.8.2"
  }
 },
 "nbformat": 4,
 "nbformat_minor": 4
}
