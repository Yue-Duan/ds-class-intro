{
 "cells": [
  {
   "cell_type": "markdown",
   "metadata": {},
   "source": [
    "Exercise 3"
   ]
  },
  {
   "cell_type": "markdown",
   "metadata": {},
   "source": [
    "1. Write a program flow which will assign `grade` by the test scores using the following conditions:\n",
    "\n",
    "    1. If score >= 90, grade=\"A\"\n",
    "    2. If 80 >= score >90, grade=\"B\"\n",
    "    3. If 70 >= score >80, grade=\"C\"\n",
    "    4. If 60 >= score >70, grade=\"D\"\n",
    "    5. IF score < 60, grade=\"F\"\n"
   ]
  },
  {
   "cell_type": "code",
   "execution_count": 3,
   "metadata": {},
   "outputs": [
    {
     "name": "stdout",
     "output_type": "stream",
     "text": [
      "C\n"
     ]
    }
   ],
   "source": [
    "# code up your solution here\n",
    "\n",
    "score = 70\n",
    "\n",
    "if score>=90:\n",
    "    grade='A'\n",
    "elif score>=80:\n",
    "    grade='B'\n",
    "elif score>=70:\n",
    "    grade='C'\n",
    "elif score>=60:\n",
    "    grade=\"D\"\n",
    "else :\n",
    "    grade='F'\n",
    "\n",
    "print(grade)"
   ]
  },
  {
   "cell_type": "markdown",
   "metadata": {},
   "source": [
    "2. x=1, y=1, write a flow to assign messge to different value base on different criteria as below, and in the end print out the message:\n",
    "\n",
    "    a. If x less than y, messge=\"x is less than y\"\n",
    "    \n",
    "    b. If x larger than y, messge=\"x is greater than y\"\n",
    "    \n",
    "    c. If x equal to y, messge=\"x is the same as y\""
   ]
  },
  {
   "cell_type": "code",
   "execution_count": 4,
   "metadata": {},
   "outputs": [
    {
     "name": "stdout",
     "output_type": "stream",
     "text": [
      "x is the same as y\n"
     ]
    }
   ],
   "source": [
    "x=1\n",
    "y=1\n",
    "if x<y:\n",
    "    messge=\"x is less than y\"\n",
    "elif x>y:\n",
    "    messge=\"x is greater than y\"\n",
    "else:\n",
    "    messge=\"x is the same as y\"\n",
    "print(messge)"
   ]
  },
  {
   "cell_type": "markdown",
   "metadata": {},
   "source": [
    "Exercise 4"
   ]
  },
  {
   "cell_type": "markdown",
   "metadata": {},
   "source": [
    "4. The Fibonacci Sequence is the series of numbers:\n",
    "0, 1, 1, 2, 3, 5, 8, 13, 21, 34, ...\n",
    "\n",
    "The next number is found by adding up the two numbers before it.\n",
    "Find the last element of the `fibolist`"
   ]
  },
  {
   "cell_type": "code",
   "execution_count": 10,
   "metadata": {},
   "outputs": [
    {
     "data": {
      "text/plain": [
       "317811"
      ]
     },
     "execution_count": 10,
     "metadata": {},
     "output_type": "execute_result"
    }
   ],
   "source": [
    "fibolist=[0, 1, 1, 2, 3, 5, 8, 13, 21, 34, 55, 89, 144, 233, 377, 610, 987, 1597, 2584, 4181, 6765, 10946, 17711, 28657, 46368, 75025, 121393, 196418, 317811]\n",
    "\n",
    "# code your solution here\n",
    "\n",
    "fibolist[-1]"
   ]
  },
  {
   "cell_type": "code",
   "execution_count": 12,
   "metadata": {},
   "outputs": [
    {
     "data": {
      "text/plain": [
       "832039"
      ]
     },
     "execution_count": 12,
     "metadata": {},
     "output_type": "execute_result"
    }
   ],
   "source": [
    "#5. Calculate the sum of `fibolist`\n",
    "sum(fibolist)"
   ]
  },
  {
   "cell_type": "code",
   "execution_count": 14,
   "metadata": {},
   "outputs": [
    {
     "data": {
      "text/plain": [
       "[0,\n",
       " 1,\n",
       " 1,\n",
       " 2,\n",
       " 3,\n",
       " 5,\n",
       " 8,\n",
       " 13,\n",
       " 21,\n",
       " 34,\n",
       " 55,\n",
       " 89,\n",
       " 144,\n",
       " 233,\n",
       " 377,\n",
       " 610,\n",
       " 987,\n",
       " 1597,\n",
       " 2584,\n",
       " 4181,\n",
       " 6765,\n",
       " 10946,\n",
       " 17711,\n",
       " 28657,\n",
       " 46368,\n",
       " 75025,\n",
       " 121393,\n",
       " 196418,\n",
       " 317811,\n",
       " 514229]"
      ]
     },
     "execution_count": 14,
     "metadata": {},
     "output_type": "execute_result"
    }
   ],
   "source": [
    "#6 Calculate and append the next fibonacci number to fibolist.\n",
    "fibolist[-1]+fibolist[-2]\n",
    "fibolist.append(fibolist[-1]+fibolist[-2])\n",
    "fibolist"
   ]
  },
  {
   "cell_type": "code",
   "execution_count": 21,
   "metadata": {},
   "outputs": [
    {
     "data": {
      "text/plain": [
       "[514229,\n",
       " 317811,\n",
       " 196418,\n",
       " 121393,\n",
       " 75025,\n",
       " 46368,\n",
       " 28657,\n",
       " 17711,\n",
       " 10946,\n",
       " 6765,\n",
       " 4181,\n",
       " 2584,\n",
       " 1597,\n",
       " 987,\n",
       " 610,\n",
       " 377,\n",
       " 233,\n",
       " 144,\n",
       " 89,\n",
       " 55,\n",
       " 34,\n",
       " 21,\n",
       " 13,\n",
       " 8,\n",
       " 5,\n",
       " 3,\n",
       " 2,\n",
       " 1,\n",
       " 1,\n",
       " 0]"
      ]
     },
     "execution_count": 21,
     "metadata": {},
     "output_type": "execute_result"
    }
   ],
   "source": [
    "#7.Create a reversed copy of fibolist without permanently reversing fibolist liteslf.\n",
    "reversed=fibolist[::-1]\n",
    "reversed"
   ]
  },
  {
   "cell_type": "code",
   "execution_count": 20,
   "metadata": {},
   "outputs": [
    {
     "data": {
      "text/plain": [
       "False"
      ]
     },
     "execution_count": 20,
     "metadata": {},
     "output_type": "execute_result"
    }
   ],
   "source": [
    "#8Check if 29473 is a fibonacci number, and assign the anser to variable fibo_29473\n",
    "29473 in fibolist"
   ]
  },
  {
   "cell_type": "code",
   "execution_count": 25,
   "metadata": {
    "scrolled": true
   },
   "outputs": [
    {
     "name": "stdout",
     "output_type": "stream",
     "text": [
      "{'1'}\n",
      "{'4', '2', '1', '3'}\n",
      "{'3', '2'}\n",
      "{'4', '1'}\n"
     ]
    }
   ],
   "source": [
    "#9Create two sets. Calculate the union, intersection, difference and symmetric difference for the two sets\n",
    "a=set('123')\n",
    "b=set('234')\n",
    "print(a - b) # diference                          \n",
    "print(a | b) #  union                         \n",
    "print(a & b) #  intersection                           \n",
    "print(a ^ b) # symmetric difference\n"
   ]
  },
  {
   "cell_type": "code",
   "execution_count": 59,
   "metadata": {},
   "outputs": [
    {
     "name": "stdout",
     "output_type": "stream",
     "text": [
      "{'F': 'female', 'M': 'male'}\n",
      "{'F': 'female', 'M': 'male'}\n"
     ]
    }
   ],
   "source": [
    "#10 Creat a dictionary using at least two different methods.\n",
    "dict1 = dict(F='female', M='male')\n",
    "dict2= {'F': 'female', 'M': 'male'}\n",
    "print(dict1)\n",
    "print(dict2)"
   ]
  },
  {
   "cell_type": "code",
   "execution_count": 53,
   "metadata": {},
   "outputs": [
    {
     "data": {
      "text/plain": [
       "{2: 'True', 9999: 'False'}"
      ]
     },
     "execution_count": 53,
     "metadata": {},
     "output_type": "execute_result"
    }
   ],
   "source": [
    "#11 Check if 2 and 9999 are fibonacci numbers. Create a dictionary fibo_dict with the numbers as keys, and value=True if the number is fibonacci number, and False otherwise.\n",
    "\n",
    "2 in fibolist\n",
    "#9999 in fibolist\n",
    "\n",
    "dict3 = {2:'True',9999:'False'}\n",
    "dict3\n"
   ]
  }
 ],
 "metadata": {
  "kernelspec": {
   "display_name": "Python 3",
   "language": "python",
   "name": "python3"
  },
  "language_info": {
   "codemirror_mode": {
    "name": "ipython",
    "version": 3
   },
   "file_extension": ".py",
   "mimetype": "text/x-python",
   "name": "python",
   "nbconvert_exporter": "python",
   "pygments_lexer": "ipython3",
   "version": "3.7.7"
  }
 },
 "nbformat": 4,
 "nbformat_minor": 4
}
