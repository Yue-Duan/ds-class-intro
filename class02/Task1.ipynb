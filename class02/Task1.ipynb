{
 "cells": [
  {
   "cell_type": "markdown",
   "metadata": {},
   "source": [
    "# Task 1"
   ]
  },
  {
   "cell_type": "markdown",
   "metadata": {},
   "source": [
    "- 1) count the number of records in each folder; \n",
    "- 2) count the number of records fall into large category"
   ]
  },
  {
   "cell_type": "markdown",
   "metadata": {},
   "source": [
    "### Task 1 was fully run on windows, Task 2 was run in linux on ubunto "
   ]
  },
  {
   "cell_type": "code",
   "execution_count": 8,
   "metadata": {},
   "outputs": [
    {
     "name": "stdout",
     "output_type": "stream",
     "text": [
      "Requirement already satisfied: findspark in c:\\users\\bin\\anaconda3\\lib\\site-packages (1.3.0)\n",
      "Note: you may need to restart the kernel to use updated packages.\n"
     ]
    }
   ],
   "source": [
    "pip install findspark"
   ]
  },
  {
   "cell_type": "code",
   "execution_count": 48,
   "metadata": {},
   "outputs": [],
   "source": [
    "import findspark\n",
    "findspark.init()\n",
    "import pyspark\n",
    "from pyspark.sql import SparkSession\n",
    "from pyspark.ml.image import ImageSchema\n",
    "import numpy as np\n",
    "import pandas as pd\n",
    "import os\n",
    "import collections"
   ]
  },
  {
   "cell_type": "code",
   "execution_count": 5,
   "metadata": {
    "collapsed": true
   },
   "outputs": [
    {
     "ename": "ValueError",
     "evalue": "Cannot run multiple SparkContexts at once; existing SparkContext(app=pyspark-shell, master=local[*]) created by __init__ at <ipython-input-3-1974c4bb7055>:2 ",
     "output_type": "error",
     "traceback": [
      "\u001b[1;31m---------------------------------------------------------------------------\u001b[0m",
      "\u001b[1;31mValueError\u001b[0m                                Traceback (most recent call last)",
      "\u001b[1;32m<ipython-input-5-b22b2d7afdf6>\u001b[0m in \u001b[0;36m<module>\u001b[1;34m\u001b[0m\n\u001b[1;32m----> 1\u001b[1;33m \u001b[0msc\u001b[0m \u001b[1;33m=\u001b[0m \u001b[0mpyspark\u001b[0m\u001b[1;33m.\u001b[0m\u001b[0mSparkContext\u001b[0m\u001b[1;33m(\u001b[0m\u001b[1;33m)\u001b[0m\u001b[1;33m\u001b[0m\u001b[1;33m\u001b[0m\u001b[0m\n\u001b[0m",
      "\u001b[1;32m~\\spark-3.0.0-preview2-bin-hadoop2.7\\python\\pyspark\\context.py\u001b[0m in \u001b[0;36m__init__\u001b[1;34m(self, master, appName, sparkHome, pyFiles, environment, batchSize, serializer, conf, gateway, jsc, profiler_cls)\u001b[0m\n\u001b[0;32m    125\u001b[0m                 \" is not allowed as it is a security risk.\")\n\u001b[0;32m    126\u001b[0m \u001b[1;33m\u001b[0m\u001b[0m\n\u001b[1;32m--> 127\u001b[1;33m         \u001b[0mSparkContext\u001b[0m\u001b[1;33m.\u001b[0m\u001b[0m_ensure_initialized\u001b[0m\u001b[1;33m(\u001b[0m\u001b[0mself\u001b[0m\u001b[1;33m,\u001b[0m \u001b[0mgateway\u001b[0m\u001b[1;33m=\u001b[0m\u001b[0mgateway\u001b[0m\u001b[1;33m,\u001b[0m \u001b[0mconf\u001b[0m\u001b[1;33m=\u001b[0m\u001b[0mconf\u001b[0m\u001b[1;33m)\u001b[0m\u001b[1;33m\u001b[0m\u001b[1;33m\u001b[0m\u001b[0m\n\u001b[0m\u001b[0;32m    128\u001b[0m         \u001b[1;32mtry\u001b[0m\u001b[1;33m:\u001b[0m\u001b[1;33m\u001b[0m\u001b[1;33m\u001b[0m\u001b[0m\n\u001b[0;32m    129\u001b[0m             self._do_init(master, appName, sparkHome, pyFiles, environment, batchSize, serializer,\n",
      "\u001b[1;32m~\\spark-3.0.0-preview2-bin-hadoop2.7\\python\\pyspark\\context.py\u001b[0m in \u001b[0;36m_ensure_initialized\u001b[1;34m(cls, instance, gateway, conf)\u001b[0m\n\u001b[0;32m    333\u001b[0m                         \u001b[1;34m\" created by %s at %s:%s \"\u001b[0m\u001b[1;33m\u001b[0m\u001b[1;33m\u001b[0m\u001b[0m\n\u001b[0;32m    334\u001b[0m                         % (currentAppName, currentMaster,\n\u001b[1;32m--> 335\u001b[1;33m                             callsite.function, callsite.file, callsite.linenum))\n\u001b[0m\u001b[0;32m    336\u001b[0m                 \u001b[1;32melse\u001b[0m\u001b[1;33m:\u001b[0m\u001b[1;33m\u001b[0m\u001b[1;33m\u001b[0m\u001b[0m\n\u001b[0;32m    337\u001b[0m                     \u001b[0mSparkContext\u001b[0m\u001b[1;33m.\u001b[0m\u001b[0m_active_spark_context\u001b[0m \u001b[1;33m=\u001b[0m \u001b[0minstance\u001b[0m\u001b[1;33m\u001b[0m\u001b[1;33m\u001b[0m\u001b[0m\n",
      "\u001b[1;31mValueError\u001b[0m: Cannot run multiple SparkContexts at once; existing SparkContext(app=pyspark-shell, master=local[*]) created by __init__ at <ipython-input-3-1974c4bb7055>:2 "
     ]
    }
   ],
   "source": [
    "sc = pyspark.SparkContext()"
   ]
  },
  {
   "cell_type": "code",
   "execution_count": 11,
   "metadata": {},
   "outputs": [],
   "source": [
    "spark = SparkSession \\\n",
    "    .builder \\\n",
    "    .appName(\"Python Spark create RDD example\") \\\n",
    "    .config(\"spark.some.config.option\", \"some-value\") \\\n",
    "    .getOrCreate()"
   ]
  },
  {
   "cell_type": "markdown",
   "metadata": {},
   "source": [
    "## 1 Count the number of records in each folder "
   ]
  },
  {
   "cell_type": "markdown",
   "metadata": {},
   "source": [
    "### 1a. Load images to one folder to test"
   ]
  },
  {
   "cell_type": "code",
   "execution_count": 22,
   "metadata": {},
   "outputs": [],
   "source": [
    "# run one folder to test\n",
    "Apple_Braeburn = spark.read.format('image').load(\"C:\\\\Users\\\\BIN\\\\Training\\\\Apple Braeburn\")"
   ]
  },
  {
   "cell_type": "code",
   "execution_count": 18,
   "metadata": {},
   "outputs": [
    {
     "name": "stdout",
     "output_type": "stream",
     "text": [
      "DataFrame[image: struct<origin:string,height:int,width:int,nChannels:int,mode:int,data:binary>]\n"
     ]
    }
   ],
   "source": [
    "print(Apple_Braeburn)"
   ]
  },
  {
   "cell_type": "code",
   "execution_count": 16,
   "metadata": {},
   "outputs": [
    {
     "name": "stdout",
     "output_type": "stream",
     "text": [
      "root\n",
      " |-- image: struct (nullable = true)\n",
      " |    |-- origin: string (nullable = true)\n",
      " |    |-- height: integer (nullable = true)\n",
      " |    |-- width: integer (nullable = true)\n",
      " |    |-- nChannels: integer (nullable = true)\n",
      " |    |-- mode: integer (nullable = true)\n",
      " |    |-- data: binary (nullable = true)\n",
      "\n"
     ]
    }
   ],
   "source": [
    "Apple_Braeburn.printSchema()"
   ]
  },
  {
   "cell_type": "code",
   "execution_count": 23,
   "metadata": {},
   "outputs": [
    {
     "data": {
      "text/plain": [
       "492"
      ]
     },
     "execution_count": 23,
     "metadata": {},
     "output_type": "execute_result"
    }
   ],
   "source": [
    "Apple_Braeburn.count()"
   ]
  },
  {
   "cell_type": "markdown",
   "metadata": {},
   "source": [
    "### 1b. Collect all folder namers"
   ]
  },
  {
   "cell_type": "code",
   "execution_count": 26,
   "metadata": {},
   "outputs": [],
   "source": [
    "foldernames = os.listdir('C:\\\\Users\\\\BIN\\\\Training')"
   ]
  },
  {
   "cell_type": "code",
   "execution_count": 27,
   "metadata": {},
   "outputs": [
    {
     "data": {
      "text/plain": [
       "['Apple Braeburn',\n",
       " 'Apple Crimson Snow',\n",
       " 'Apple Golden 1',\n",
       " 'Apple Golden 2',\n",
       " 'Apple Golden 3']"
      ]
     },
     "execution_count": 27,
     "metadata": {},
     "output_type": "execute_result"
    }
   ],
   "source": [
    "foldernames[:5]"
   ]
  },
  {
   "cell_type": "markdown",
   "metadata": {},
   "source": [
    "### 1c. Load all images and count number of images for all folders"
   ]
  },
  {
   "cell_type": "code",
   "execution_count": 29,
   "metadata": {},
   "outputs": [],
   "source": [
    "folder_count = {}\n",
    "for i in foldernames:\n",
    "    a = i\n",
    "    i = spark.read.format('image').load(\"C:\\\\Users\\\\BIN\\\\Training\\\\\" + i)\n",
    "    folder_count[a]=i.count()"
   ]
  },
  {
   "cell_type": "code",
   "execution_count": 31,
   "metadata": {},
   "outputs": [
    {
     "data": {
      "text/plain": [
       "{'Apple Braeburn': 492,\n",
       " 'Apple Crimson Snow': 444,\n",
       " 'Apple Golden 1': 492,\n",
       " 'Apple Golden 2': 492,\n",
       " 'Apple Golden 3': 481,\n",
       " 'Apple Granny Smith': 492,\n",
       " 'Apple Pink Lady': 456,\n",
       " 'Apple Red 1': 492,\n",
       " 'Apple Red 2': 492,\n",
       " 'Apple Red 3': 429,\n",
       " 'Apple Red Delicious': 490,\n",
       " 'Apple Red Yellow 1': 492,\n",
       " 'Apple Red Yellow 2': 672,\n",
       " 'Apricot': 492,\n",
       " 'Avocado': 427,\n",
       " 'Avocado ripe': 491,\n",
       " 'Banana': 490,\n",
       " 'Banana Lady Finger': 450,\n",
       " 'Banana Red': 490,\n",
       " 'Beetroot': 450,\n",
       " 'Blueberry': 462,\n",
       " 'Cactus fruit': 490,\n",
       " 'Cantaloupe 1': 492,\n",
       " 'Cantaloupe 2': 492,\n",
       " 'Carambula': 490,\n",
       " 'Cauliflower': 702,\n",
       " 'Cherry 1': 492,\n",
       " 'Cherry 2': 738,\n",
       " 'Cherry Rainier': 738,\n",
       " 'Cherry Wax Black': 492,\n",
       " 'Cherry Wax Red': 492,\n",
       " 'Cherry Wax Yellow': 492,\n",
       " 'Chestnut': 450,\n",
       " 'Clementine': 490,\n",
       " 'Cocos': 490,\n",
       " 'Dates': 490,\n",
       " 'Eggplant': 468,\n",
       " 'Ginger Root': 99,\n",
       " 'Granadilla': 490,\n",
       " 'Grape Blue': 984,\n",
       " 'Grape Pink': 492,\n",
       " 'Grape White': 490,\n",
       " 'Grape White 2': 490,\n",
       " 'Grape White 3': 492,\n",
       " 'Grape White 4': 471,\n",
       " 'Grapefruit Pink': 490,\n",
       " 'Grapefruit White': 492,\n",
       " 'Guava': 490,\n",
       " 'Hazelnut': 464,\n",
       " 'Huckleberry': 490,\n",
       " 'Kaki': 490,\n",
       " 'Kiwi': 466,\n",
       " 'Kohlrabi': 471,\n",
       " 'Kumquats': 490,\n",
       " 'Lemon': 492,\n",
       " 'Lemon Meyer': 490,\n",
       " 'Limes': 490,\n",
       " 'Lychee': 490,\n",
       " 'Mandarine': 490,\n",
       " 'Mango': 490,\n",
       " 'Mango Red': 426,\n",
       " 'Mangostan': 300,\n",
       " 'Maracuja': 490,\n",
       " 'Melon Piel de Sapo': 738,\n",
       " 'Mulberry': 492,\n",
       " 'Nectarine': 492,\n",
       " 'Nectarine Flat': 480,\n",
       " 'Nut Forest': 218,\n",
       " 'Nut Pecan': 178,\n",
       " 'Onion Red': 450,\n",
       " 'Onion Red Peeled': 445,\n",
       " 'Onion White': 438,\n",
       " 'Orange': 479,\n",
       " 'Papaya': 492,\n",
       " 'Passion Fruit': 490,\n",
       " 'Peach': 492,\n",
       " 'Peach 2': 738,\n",
       " 'Peach Flat': 492,\n",
       " 'Pear': 492,\n",
       " 'Pear Abate': 490,\n",
       " 'Pear Forelle': 702,\n",
       " 'Pear Kaiser': 300,\n",
       " 'Pear Monster': 490,\n",
       " 'Pear Red': 666,\n",
       " 'Pear Williams': 490,\n",
       " 'Pepino': 490,\n",
       " 'Pepper Green': 444,\n",
       " 'Pepper Red': 666,\n",
       " 'Pepper Yellow': 666,\n",
       " 'Physalis': 492,\n",
       " 'Physalis with Husk': 492,\n",
       " 'Pineapple': 490,\n",
       " 'Pineapple Mini': 493,\n",
       " 'Pitahaya Red': 490,\n",
       " 'Plum': 447,\n",
       " 'Plum 2': 420,\n",
       " 'Plum 3': 900,\n",
       " 'Pomegranate': 492,\n",
       " 'Pomelo Sweetie': 450,\n",
       " 'Potato Red': 450,\n",
       " 'Potato Red Washed': 453,\n",
       " 'Potato Sweet': 450,\n",
       " 'Potato White': 450,\n",
       " 'Quince': 490,\n",
       " 'Rambutan': 492,\n",
       " 'Raspberry': 490,\n",
       " 'Redcurrant': 492,\n",
       " 'Salak': 490,\n",
       " 'Strawberry': 492,\n",
       " 'Strawberry Wedge': 738,\n",
       " 'Tamarillo': 490,\n",
       " 'Tangelo': 490,\n",
       " 'Tomato 1': 738,\n",
       " 'Tomato 2': 672,\n",
       " 'Tomato 3': 738,\n",
       " 'Tomato 4': 479,\n",
       " 'Tomato Cherry Red': 492,\n",
       " 'Tomato Maroon': 367,\n",
       " 'Tomato Yellow': 459,\n",
       " 'Walnut': 735}"
      ]
     },
     "execution_count": 31,
     "metadata": {},
     "output_type": "execute_result"
    }
   ],
   "source": [
    "folder_count"
   ]
  },
  {
   "cell_type": "markdown",
   "metadata": {},
   "source": [
    "## 2 Count the number of records fall into large category"
   ]
  },
  {
   "cell_type": "code",
   "execution_count": 35,
   "metadata": {},
   "outputs": [],
   "source": [
    "large_categories = []\n",
    "for i in foldernames:\n",
    "    large_categories.append(i.split(' ')[0])"
   ]
  },
  {
   "cell_type": "code",
   "execution_count": 45,
   "metadata": {},
   "outputs": [
    {
     "data": {
      "text/plain": [
       "{'Apple',\n",
       " 'Apricot',\n",
       " 'Avocado',\n",
       " 'Banana',\n",
       " 'Beetroot',\n",
       " 'Blueberry',\n",
       " 'Cactus',\n",
       " 'Cantaloupe',\n",
       " 'Carambula',\n",
       " 'Cauliflower',\n",
       " 'Cherry',\n",
       " 'Chestnut',\n",
       " 'Clementine',\n",
       " 'Cocos',\n",
       " 'Dates',\n",
       " 'Eggplant',\n",
       " 'Ginger',\n",
       " 'Granadilla',\n",
       " 'Grape',\n",
       " 'Grapefruit',\n",
       " 'Guava',\n",
       " 'Hazelnut',\n",
       " 'Huckleberry',\n",
       " 'Kaki',\n",
       " 'Kiwi',\n",
       " 'Kohlrabi',\n",
       " 'Kumquats',\n",
       " 'Lemon',\n",
       " 'Limes',\n",
       " 'Lychee',\n",
       " 'Mandarine',\n",
       " 'Mango',\n",
       " 'Mangostan',\n",
       " 'Maracuja',\n",
       " 'Melon',\n",
       " 'Mulberry',\n",
       " 'Nectarine',\n",
       " 'Nut',\n",
       " 'Onion',\n",
       " 'Orange',\n",
       " 'Papaya',\n",
       " 'Passion',\n",
       " 'Peach',\n",
       " 'Pear',\n",
       " 'Pepino',\n",
       " 'Pepper',\n",
       " 'Physalis',\n",
       " 'Pineapple',\n",
       " 'Pitahaya',\n",
       " 'Plum',\n",
       " 'Pomegranate',\n",
       " 'Pomelo',\n",
       " 'Potato',\n",
       " 'Quince',\n",
       " 'Rambutan',\n",
       " 'Raspberry',\n",
       " 'Redcurrant',\n",
       " 'Salak',\n",
       " 'Strawberry',\n",
       " 'Tamarillo',\n",
       " 'Tangelo',\n",
       " 'Tomato',\n",
       " 'Walnut'}"
      ]
     },
     "execution_count": 45,
     "metadata": {},
     "output_type": "execute_result"
    }
   ],
   "source": [
    "large_categories = set(large_categories)\n",
    "large_categories"
   ]
  },
  {
   "cell_type": "code",
   "execution_count": 46,
   "metadata": {},
   "outputs": [],
   "source": [
    "total = 0\n",
    "large_categories_count = {}\n",
    "for i in large_categories:\n",
    "    for key, value in folder_count.items():\n",
    "        if i in key:\n",
    "            total = total + value\n",
    "        large_categories_count[i] = total\n",
    "    total = 0"
   ]
  },
  {
   "cell_type": "code",
   "execution_count": 47,
   "metadata": {
    "collapsed": true
   },
   "outputs": [
    {
     "data": {
      "text/plain": [
       "{'Mandarine': 490,\n",
       " 'Cocos': 490,\n",
       " 'Grape': 4401,\n",
       " 'Kumquats': 490,\n",
       " 'Chestnut': 450,\n",
       " 'Lychee': 490,\n",
       " 'Mulberry': 492,\n",
       " 'Grapefruit': 982,\n",
       " 'Hazelnut': 464,\n",
       " 'Pomegranate': 492,\n",
       " 'Kiwi': 466,\n",
       " 'Apricot': 492,\n",
       " 'Cactus': 490,\n",
       " 'Potato': 1803,\n",
       " 'Orange': 479,\n",
       " 'Plum': 1767,\n",
       " 'Lemon': 982,\n",
       " 'Mangostan': 300,\n",
       " 'Quince': 490,\n",
       " 'Tamarillo': 490,\n",
       " 'Physalis': 984,\n",
       " 'Salak': 490,\n",
       " 'Nut': 396,\n",
       " 'Clementine': 490,\n",
       " 'Pepino': 490,\n",
       " 'Raspberry': 490,\n",
       " 'Cantaloupe': 984,\n",
       " 'Cherry': 3936,\n",
       " 'Huckleberry': 490,\n",
       " 'Pomelo': 450,\n",
       " 'Strawberry': 1230,\n",
       " 'Walnut': 735,\n",
       " 'Beetroot': 450,\n",
       " 'Mango': 1216,\n",
       " 'Granadilla': 490,\n",
       " 'Melon': 738,\n",
       " 'Rambutan': 492,\n",
       " 'Cauliflower': 702,\n",
       " 'Kohlrabi': 471,\n",
       " 'Dates': 490,\n",
       " 'Pineapple': 983,\n",
       " 'Avocado': 918,\n",
       " 'Blueberry': 462,\n",
       " 'Maracuja': 490,\n",
       " 'Apple': 6416,\n",
       " 'Guava': 490,\n",
       " 'Passion': 490,\n",
       " 'Pepper': 1776,\n",
       " 'Papaya': 492,\n",
       " 'Carambula': 490,\n",
       " 'Tangelo': 490,\n",
       " 'Limes': 490,\n",
       " 'Eggplant': 468,\n",
       " 'Peach': 1722,\n",
       " 'Nectarine': 972,\n",
       " 'Kaki': 490,\n",
       " 'Tomato': 3945,\n",
       " 'Ginger': 99,\n",
       " 'Onion': 1333,\n",
       " 'Pitahaya': 490,\n",
       " 'Redcurrant': 492,\n",
       " 'Pear': 3630,\n",
       " 'Banana': 1430}"
      ]
     },
     "execution_count": 47,
     "metadata": {},
     "output_type": "execute_result"
    }
   ],
   "source": [
    "large_categories_count"
   ]
  },
  {
   "cell_type": "code",
   "execution_count": 51,
   "metadata": {},
   "outputs": [
    {
     "data": {
      "text/plain": [
       "OrderedDict([('Apple', 6416),\n",
       "             ('Apricot', 492),\n",
       "             ('Avocado', 918),\n",
       "             ('Banana', 1430),\n",
       "             ('Beetroot', 450),\n",
       "             ('Blueberry', 462),\n",
       "             ('Cactus', 490),\n",
       "             ('Cantaloupe', 984),\n",
       "             ('Carambula', 490),\n",
       "             ('Cauliflower', 702),\n",
       "             ('Cherry', 3936),\n",
       "             ('Chestnut', 450),\n",
       "             ('Clementine', 490),\n",
       "             ('Cocos', 490),\n",
       "             ('Dates', 490),\n",
       "             ('Eggplant', 468),\n",
       "             ('Ginger', 99),\n",
       "             ('Granadilla', 490),\n",
       "             ('Grape', 4401),\n",
       "             ('Grapefruit', 982),\n",
       "             ('Guava', 490),\n",
       "             ('Hazelnut', 464),\n",
       "             ('Huckleberry', 490),\n",
       "             ('Kaki', 490),\n",
       "             ('Kiwi', 466),\n",
       "             ('Kohlrabi', 471),\n",
       "             ('Kumquats', 490),\n",
       "             ('Lemon', 982),\n",
       "             ('Limes', 490),\n",
       "             ('Lychee', 490),\n",
       "             ('Mandarine', 490),\n",
       "             ('Mango', 1216),\n",
       "             ('Mangostan', 300),\n",
       "             ('Maracuja', 490),\n",
       "             ('Melon', 738),\n",
       "             ('Mulberry', 492),\n",
       "             ('Nectarine', 972),\n",
       "             ('Nut', 396),\n",
       "             ('Onion', 1333),\n",
       "             ('Orange', 479),\n",
       "             ('Papaya', 492),\n",
       "             ('Passion', 490),\n",
       "             ('Peach', 1722),\n",
       "             ('Pear', 3630),\n",
       "             ('Pepino', 490),\n",
       "             ('Pepper', 1776),\n",
       "             ('Physalis', 984),\n",
       "             ('Pineapple', 983),\n",
       "             ('Pitahaya', 490),\n",
       "             ('Plum', 1767),\n",
       "             ('Pomegranate', 492),\n",
       "             ('Pomelo', 450),\n",
       "             ('Potato', 1803),\n",
       "             ('Quince', 490),\n",
       "             ('Rambutan', 492),\n",
       "             ('Raspberry', 490),\n",
       "             ('Redcurrant', 492),\n",
       "             ('Salak', 490),\n",
       "             ('Strawberry', 1230),\n",
       "             ('Tamarillo', 490),\n",
       "             ('Tangelo', 490),\n",
       "             ('Tomato', 3945),\n",
       "             ('Walnut', 735)])"
      ]
     },
     "execution_count": 51,
     "metadata": {},
     "output_type": "execute_result"
    }
   ],
   "source": [
    "collections.OrderedDict(sorted(large_categories_count.items()))"
   ]
  },
  {
   "cell_type": "markdown",
   "metadata": {},
   "source": [
    "- The total number of apples is 6416\n",
    "- This number will be cross checked in Task 2, as Task 2 will deal with apple samples"
   ]
  }
 ],
 "metadata": {
  "kernelspec": {
   "display_name": "Python 3",
   "language": "python",
   "name": "python3"
  },
  "language_info": {
   "codemirror_mode": {
    "name": "ipython",
    "version": 3
   },
   "file_extension": ".py",
   "mimetype": "text/x-python",
   "name": "python",
   "nbconvert_exporter": "python",
   "pygments_lexer": "ipython3",
   "version": "3.7.4"
  }
 },
 "nbformat": 4,
 "nbformat_minor": 2
}
