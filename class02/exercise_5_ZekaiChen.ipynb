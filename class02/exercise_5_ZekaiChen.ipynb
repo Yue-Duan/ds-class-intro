{
 "cells": [
  {
   "cell_type": "markdown",
   "metadata": {},
   "source": [
    "Exercise 5.\n",
    "    1. \n",
    "Write a Python program to find those numbers which are divisible by 7 and multiple of 5, between 1500 and 2700 (both included)."
   ]
  },
  {
   "cell_type": "code",
   "execution_count": 10,
   "metadata": {},
   "outputs": [
    {
     "output_type": "stream",
     "name": "stdout",
     "text": "1505\n1540\n1575\n1610\n1645\n1680\n1715\n1750\n1785\n1820\n1855\n1890\n1925\n1960\n1995\n2030\n2065\n2100\n2135\n2170\n2205\n2240\n2275\n2310\n2345\n2380\n2415\n2450\n2485\n2520\n2555\n2590\n2625\n2660\n2695\n"
    }
   ],
   "source": [
    "for i in range(1500,2700,5):\n",
    "    if i % 7 == 0:\n",
    "        print(i)"
   ]
  },
  {
   "cell_type": "markdown",
   "metadata": {},
   "source": [
    "    2. \n",
    "Write a Python program to count the number of even and odd numbers from a series of numbers.\n",
    "Sample: numbers = (1, 2, 3, 4, 5, 6, 7, 8, 9)\n",
    "\n",
    "Expected Output :\n",
    "\n",
    "Number of even numbers : 5\n",
    "Number of odd numbers : 4"
   ]
  },
  {
   "cell_type": "code",
   "execution_count": 22,
   "metadata": {},
   "outputs": [
    {
     "output_type": "stream",
     "name": "stdout",
     "text": "Number of even numbers:  6 Number of odd numbers :  7\n"
    }
   ],
   "source": [
    "numbers = (1, 2, 3, 4, 5, 6, 7, 8, 9, 10, 11, 12, 113)\n",
    "countN={\"evenN\":0,\"oddN\":0}\n",
    "for f in numbers:\n",
    "    if f % 2 ==0:\n",
    "        countN[\"evenN\"] = countN[\"evenN\"]+1\n",
    "    else:\n",
    "        countN[\"oddN\"] = countN[\"oddN\"]+1\n",
    "print(\"Number of even numbers: \", countN[\"evenN\"] ,\"Number of odd numbers : \", countN[\"oddN\"])"
   ]
  },
  {
   "cell_type": "markdown",
   "metadata": {},
   "source": [
    "    3.\n",
    "\n",
    "Write a Python program which iterates the integers from 0 to 50. For multiples of three print \"Fizz\" instead of the number and for the multiples of five print \"Buzz\". For numbers which are multiples of both three and five print \"FizzBuzz\".\n",
    "Expected Output :\n",
    "\n",
    "fizzbuzz\n",
    "1\n",
    "2\n",
    "fizz\n",
    "4\n",
    "buzz\n",
    "..."
   ]
  },
  {
   "cell_type": "code",
   "execution_count": 28,
   "metadata": {},
   "outputs": [
    {
     "output_type": "stream",
     "name": "stdout",
     "text": "fizzbuzz\n1\n2\nfizz\n3\n4\nbuzz\nfizz\n6\n7\n8\nfizz\n9\nbuzz\n11\nfizz\n12\n13\n14\nfizzbuzz\n16\n17\nfizz\n18\n19\nbuzz\nfizz\n21\n22\n23\nfizz\n24\nbuzz\n26\nfizz\n27\n28\n29\nfizzbuzz\n31\n32\nfizz\n33\n34\nbuzz\nfizz\n36\n37\n38\nfizz\n39\nbuzz\n41\nfizz\n42\n43\n44\nfizzbuzz\n46\n47\nfizz\n48\n49\nbuzz\n"
    }
   ],
   "source": [
    "for i in range(0,51):\n",
    "    if i % 3 == 0 and i % 5 == 0:\n",
    "        print(\"fizzbuzz\")\n",
    "        continue\n",
    "    elif i % 3 == 0:\n",
    "        print(\"fizz\")\n",
    "        i\n",
    "    elif i % 5 == 0:\n",
    "        print(\"buzz\")\n",
    "        continue\n",
    "    print(i)"
   ]
  },
  {
   "cell_type": "markdown",
   "metadata": {},
   "source": [
    "    4.\n",
    "Given a list iterate it and display numbers which are divisible by 5 and if you find number greater than 150 stop the loop iteration\n",
    "list1 = [12, 15, 32, 42, 55, 75, 122, 132, 150, 180, 200]\n",
    "\n",
    "Expected output:\n",
    "\n",
    "15\n",
    "55\n",
    "75\n",
    "150"
   ]
  },
  {
   "cell_type": "code",
   "execution_count": 31,
   "metadata": {},
   "outputs": [
    {
     "output_type": "stream",
     "name": "stdout",
     "text": "15\n55\n75\n150\n"
    }
   ],
   "source": [
    "list1 = [12, 15, 32, 42, 55, 75, 122, 132, 150, 180, 200]\n",
    "for i in list1:\n",
    "    if i > 150:\n",
    "        break\n",
    "    if i % 5 == 0:\n",
    "        print(i)"
   ]
  },
  {
   "cell_type": "markdown",
   "metadata": {},
   "source": [
    "    5. \n",
    "Pick one of the questions above and use range() for a different solution"
   ]
  },
  {
   "cell_type": "code",
   "execution_count": 3,
   "metadata": {},
   "outputs": [
    {
     "output_type": "stream",
     "name": "stdout",
     "text": "1505\n1540\n1575\n1610\n1645\n1680\n1715\n1750\n1785\n1820\n1855\n1890\n1925\n1960\n1995\n2030\n2065\n2100\n2135\n2170\n2205\n2240\n2275\n2310\n2345\n2380\n2415\n2450\n2485\n2520\n2555\n2590\n2625\n2660\n2695\n"
    }
   ],
   "source": [
    "for i in range(1500,2700):\n",
    "    if i % 7 == 0:\n",
    "        if i % 5 == 0:\n",
    "            print(i)\n"
   ]
  },
  {
   "cell_type": "markdown",
   "metadata": {},
   "source": [
    "    6.\n",
    "Pick one of the question above and use comprehensions for a different solution"
   ]
  },
  {
   "cell_type": "code",
   "execution_count": 19,
   "metadata": {},
   "outputs": [
    {
     "output_type": "stream",
     "name": "stdout",
     "text": "[1505, 1540, 1575, 1610, 1645, 1680, 1715, 1750, 1785, 1820, 1855, 1890, 1925, 1960, 1995, 2030, 2065, 2100, 2135, 2170, 2205, 2240, 2275, 2310, 2345, 2380, 2415, 2450, 2485, 2520, 2555, 2590, 2625, 2660, 2695]\n"
    }
   ],
   "source": [
    "print( [i for i in range(1500, 2700, 5) if i % 7 == 0] )\n"
   ]
  }
 ],
 "metadata": {
  "language_info": {
   "codemirror_mode": {
    "name": "ipython",
    "version": 3
   },
   "file_extension": ".py",
   "mimetype": "text/x-python",
   "name": "python",
   "nbconvert_exporter": "python",
   "pygments_lexer": "ipython3",
   "version": "3.8.2-final"
  },
  "orig_nbformat": 2,
  "kernelspec": {
   "name": "python38264bitf18d9e262e0c45a1a2368eb44651c191",
   "display_name": "Python 3.8.2 64-bit"
  }
 },
 "nbformat": 4,
 "nbformat_minor": 2
}